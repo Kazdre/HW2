{
 "cells": [
  {
   "cell_type": "markdown",
   "metadata": {},
   "source": [
    "# Критерий хи-квадрта"
   ]
  },
  {
   "cell_type": "markdown",
   "metadata": {},
   "source": [
    "Импортируем необходимые библиотеки, читаем датафрейм - необходимые данные для поступления в университеты."
   ]
  },
  {
   "cell_type": "code",
   "execution_count": 41,
   "metadata": {},
   "outputs": [
    {
     "data": {
      "text/html": [
       "<div>\n",
       "<style scoped>\n",
       "    .dataframe tbody tr th:only-of-type {\n",
       "        vertical-align: middle;\n",
       "    }\n",
       "\n",
       "    .dataframe tbody tr th {\n",
       "        vertical-align: top;\n",
       "    }\n",
       "\n",
       "    .dataframe thead th {\n",
       "        text-align: right;\n",
       "    }\n",
       "</style>\n",
       "<table border=\"1\" class=\"dataframe\">\n",
       "  <thead>\n",
       "    <tr style=\"text-align: right;\">\n",
       "      <th></th>\n",
       "      <th>Serial No.</th>\n",
       "      <th>GRE Score</th>\n",
       "      <th>TOEFL Score</th>\n",
       "      <th>University Rating</th>\n",
       "      <th>SOP</th>\n",
       "      <th>LOR</th>\n",
       "      <th>CGPA</th>\n",
       "      <th>Research</th>\n",
       "      <th>Chance of Admit</th>\n",
       "    </tr>\n",
       "  </thead>\n",
       "  <tbody>\n",
       "    <tr>\n",
       "      <th>0</th>\n",
       "      <td>1</td>\n",
       "      <td>337</td>\n",
       "      <td>118</td>\n",
       "      <td>4</td>\n",
       "      <td>4.5</td>\n",
       "      <td>4.5</td>\n",
       "      <td>9.65</td>\n",
       "      <td>1</td>\n",
       "      <td>0.92</td>\n",
       "    </tr>\n",
       "    <tr>\n",
       "      <th>1</th>\n",
       "      <td>2</td>\n",
       "      <td>324</td>\n",
       "      <td>107</td>\n",
       "      <td>4</td>\n",
       "      <td>4.0</td>\n",
       "      <td>4.5</td>\n",
       "      <td>8.87</td>\n",
       "      <td>1</td>\n",
       "      <td>0.76</td>\n",
       "    </tr>\n",
       "    <tr>\n",
       "      <th>2</th>\n",
       "      <td>3</td>\n",
       "      <td>316</td>\n",
       "      <td>104</td>\n",
       "      <td>3</td>\n",
       "      <td>3.0</td>\n",
       "      <td>3.5</td>\n",
       "      <td>8.00</td>\n",
       "      <td>1</td>\n",
       "      <td>0.72</td>\n",
       "    </tr>\n",
       "    <tr>\n",
       "      <th>3</th>\n",
       "      <td>4</td>\n",
       "      <td>322</td>\n",
       "      <td>110</td>\n",
       "      <td>3</td>\n",
       "      <td>3.5</td>\n",
       "      <td>2.5</td>\n",
       "      <td>8.67</td>\n",
       "      <td>1</td>\n",
       "      <td>0.80</td>\n",
       "    </tr>\n",
       "    <tr>\n",
       "      <th>4</th>\n",
       "      <td>5</td>\n",
       "      <td>314</td>\n",
       "      <td>103</td>\n",
       "      <td>2</td>\n",
       "      <td>2.0</td>\n",
       "      <td>3.0</td>\n",
       "      <td>8.21</td>\n",
       "      <td>0</td>\n",
       "      <td>0.65</td>\n",
       "    </tr>\n",
       "  </tbody>\n",
       "</table>\n",
       "</div>"
      ],
      "text/plain": [
       "   Serial No.  GRE Score  TOEFL Score  University Rating  SOP  LOR   CGPA  \\\n",
       "0           1        337          118                  4  4.5   4.5  9.65   \n",
       "1           2        324          107                  4  4.0   4.5  8.87   \n",
       "2           3        316          104                  3  3.0   3.5  8.00   \n",
       "3           4        322          110                  3  3.5   2.5  8.67   \n",
       "4           5        314          103                  2  2.0   3.0  8.21   \n",
       "\n",
       "   Research  Chance of Admit   \n",
       "0         1              0.92  \n",
       "1         1              0.76  \n",
       "2         1              0.72  \n",
       "3         1              0.80  \n",
       "4         0              0.65  "
      ]
     },
     "execution_count": 41,
     "metadata": {},
     "output_type": "execute_result"
    }
   ],
   "source": [
    "import pandas as pd\n",
    "import numpy as np\n",
    "import scipy.stats\n",
    "\n",
    "\n",
    "df = pd.read_csv('adm_data.csv')\n",
    "df.head()"
   ]
  },
  {
   "cell_type": "markdown",
   "metadata": {},
   "source": [
    "Добавим новую категориальную переменную - имеет ли университет наивысший рейтинг."
   ]
  },
  {
   "cell_type": "code",
   "execution_count": 42,
   "metadata": {},
   "outputs": [
    {
     "data": {
      "text/html": [
       "<div>\n",
       "<style scoped>\n",
       "    .dataframe tbody tr th:only-of-type {\n",
       "        vertical-align: middle;\n",
       "    }\n",
       "\n",
       "    .dataframe tbody tr th {\n",
       "        vertical-align: top;\n",
       "    }\n",
       "\n",
       "    .dataframe thead th {\n",
       "        text-align: right;\n",
       "    }\n",
       "</style>\n",
       "<table border=\"1\" class=\"dataframe\">\n",
       "  <thead>\n",
       "    <tr style=\"text-align: right;\">\n",
       "      <th></th>\n",
       "      <th>Serial No.</th>\n",
       "      <th>GRE Score</th>\n",
       "      <th>TOEFL Score</th>\n",
       "      <th>University Rating</th>\n",
       "      <th>SOP</th>\n",
       "      <th>LOR</th>\n",
       "      <th>CGPA</th>\n",
       "      <th>Research</th>\n",
       "      <th>Chance of Admit</th>\n",
       "      <th>is_highest_uni_rating</th>\n",
       "    </tr>\n",
       "  </thead>\n",
       "  <tbody>\n",
       "    <tr>\n",
       "      <th>0</th>\n",
       "      <td>1</td>\n",
       "      <td>337</td>\n",
       "      <td>118</td>\n",
       "      <td>4</td>\n",
       "      <td>4.5</td>\n",
       "      <td>4.5</td>\n",
       "      <td>9.65</td>\n",
       "      <td>1</td>\n",
       "      <td>0.92</td>\n",
       "      <td>False</td>\n",
       "    </tr>\n",
       "    <tr>\n",
       "      <th>1</th>\n",
       "      <td>2</td>\n",
       "      <td>324</td>\n",
       "      <td>107</td>\n",
       "      <td>4</td>\n",
       "      <td>4.0</td>\n",
       "      <td>4.5</td>\n",
       "      <td>8.87</td>\n",
       "      <td>1</td>\n",
       "      <td>0.76</td>\n",
       "      <td>False</td>\n",
       "    </tr>\n",
       "    <tr>\n",
       "      <th>2</th>\n",
       "      <td>3</td>\n",
       "      <td>316</td>\n",
       "      <td>104</td>\n",
       "      <td>3</td>\n",
       "      <td>3.0</td>\n",
       "      <td>3.5</td>\n",
       "      <td>8.00</td>\n",
       "      <td>1</td>\n",
       "      <td>0.72</td>\n",
       "      <td>False</td>\n",
       "    </tr>\n",
       "    <tr>\n",
       "      <th>3</th>\n",
       "      <td>4</td>\n",
       "      <td>322</td>\n",
       "      <td>110</td>\n",
       "      <td>3</td>\n",
       "      <td>3.5</td>\n",
       "      <td>2.5</td>\n",
       "      <td>8.67</td>\n",
       "      <td>1</td>\n",
       "      <td>0.80</td>\n",
       "      <td>False</td>\n",
       "    </tr>\n",
       "    <tr>\n",
       "      <th>4</th>\n",
       "      <td>5</td>\n",
       "      <td>314</td>\n",
       "      <td>103</td>\n",
       "      <td>2</td>\n",
       "      <td>2.0</td>\n",
       "      <td>3.0</td>\n",
       "      <td>8.21</td>\n",
       "      <td>0</td>\n",
       "      <td>0.65</td>\n",
       "      <td>False</td>\n",
       "    </tr>\n",
       "    <tr>\n",
       "      <th>...</th>\n",
       "      <td>...</td>\n",
       "      <td>...</td>\n",
       "      <td>...</td>\n",
       "      <td>...</td>\n",
       "      <td>...</td>\n",
       "      <td>...</td>\n",
       "      <td>...</td>\n",
       "      <td>...</td>\n",
       "      <td>...</td>\n",
       "      <td>...</td>\n",
       "    </tr>\n",
       "    <tr>\n",
       "      <th>395</th>\n",
       "      <td>396</td>\n",
       "      <td>324</td>\n",
       "      <td>110</td>\n",
       "      <td>3</td>\n",
       "      <td>3.5</td>\n",
       "      <td>3.5</td>\n",
       "      <td>9.04</td>\n",
       "      <td>1</td>\n",
       "      <td>0.82</td>\n",
       "      <td>False</td>\n",
       "    </tr>\n",
       "    <tr>\n",
       "      <th>396</th>\n",
       "      <td>397</td>\n",
       "      <td>325</td>\n",
       "      <td>107</td>\n",
       "      <td>3</td>\n",
       "      <td>3.0</td>\n",
       "      <td>3.5</td>\n",
       "      <td>9.11</td>\n",
       "      <td>1</td>\n",
       "      <td>0.84</td>\n",
       "      <td>False</td>\n",
       "    </tr>\n",
       "    <tr>\n",
       "      <th>397</th>\n",
       "      <td>398</td>\n",
       "      <td>330</td>\n",
       "      <td>116</td>\n",
       "      <td>4</td>\n",
       "      <td>5.0</td>\n",
       "      <td>4.5</td>\n",
       "      <td>9.45</td>\n",
       "      <td>1</td>\n",
       "      <td>0.91</td>\n",
       "      <td>False</td>\n",
       "    </tr>\n",
       "    <tr>\n",
       "      <th>398</th>\n",
       "      <td>399</td>\n",
       "      <td>312</td>\n",
       "      <td>103</td>\n",
       "      <td>3</td>\n",
       "      <td>3.5</td>\n",
       "      <td>4.0</td>\n",
       "      <td>8.78</td>\n",
       "      <td>0</td>\n",
       "      <td>0.67</td>\n",
       "      <td>False</td>\n",
       "    </tr>\n",
       "    <tr>\n",
       "      <th>399</th>\n",
       "      <td>400</td>\n",
       "      <td>333</td>\n",
       "      <td>117</td>\n",
       "      <td>4</td>\n",
       "      <td>5.0</td>\n",
       "      <td>4.0</td>\n",
       "      <td>9.66</td>\n",
       "      <td>1</td>\n",
       "      <td>0.95</td>\n",
       "      <td>False</td>\n",
       "    </tr>\n",
       "  </tbody>\n",
       "</table>\n",
       "<p>400 rows × 10 columns</p>\n",
       "</div>"
      ],
      "text/plain": [
       "     Serial No.  GRE Score  TOEFL Score  University Rating  SOP  LOR   CGPA  \\\n",
       "0             1        337          118                  4  4.5   4.5  9.65   \n",
       "1             2        324          107                  4  4.0   4.5  8.87   \n",
       "2             3        316          104                  3  3.0   3.5  8.00   \n",
       "3             4        322          110                  3  3.5   2.5  8.67   \n",
       "4             5        314          103                  2  2.0   3.0  8.21   \n",
       "..          ...        ...          ...                ...  ...   ...   ...   \n",
       "395         396        324          110                  3  3.5   3.5  9.04   \n",
       "396         397        325          107                  3  3.0   3.5  9.11   \n",
       "397         398        330          116                  4  5.0   4.5  9.45   \n",
       "398         399        312          103                  3  3.5   4.0  8.78   \n",
       "399         400        333          117                  4  5.0   4.0  9.66   \n",
       "\n",
       "     Research  Chance of Admit  is_highest_uni_rating  \n",
       "0           1              0.92                 False  \n",
       "1           1              0.76                 False  \n",
       "2           1              0.72                 False  \n",
       "3           1              0.80                 False  \n",
       "4           0              0.65                 False  \n",
       "..        ...               ...                   ...  \n",
       "395         1              0.82                 False  \n",
       "396         1              0.84                 False  \n",
       "397         1              0.91                 False  \n",
       "398         0              0.67                 False  \n",
       "399         1              0.95                 False  \n",
       "\n",
       "[400 rows x 10 columns]"
      ]
     },
     "execution_count": 42,
     "metadata": {},
     "output_type": "execute_result"
    }
   ],
   "source": [
    "df['is_highest_uni_rating'] = pd.Categorical(df['University Rating'].apply(lambda v: v == 5))\n",
    "df"
   ]
  },
  {
   "cell_type": "markdown",
   "metadata": {},
   "source": [
    "Будем смотреть на две категориальные переменных: имеет ли университет наивысший рейтинг, требует ли университет иметь исследовательский опыт для поступления.\n",
    "\n",
    "Нулевая гипотеза: распределение независимо по выбранным переменным."
   ]
  },
  {
   "cell_type": "code",
   "execution_count": 43,
   "metadata": {},
   "outputs": [
    {
     "data": {
      "text/html": [
       "<div>\n",
       "<style scoped>\n",
       "    .dataframe tbody tr th:only-of-type {\n",
       "        vertical-align: middle;\n",
       "    }\n",
       "\n",
       "    .dataframe tbody tr th {\n",
       "        vertical-align: top;\n",
       "    }\n",
       "\n",
       "    .dataframe thead th {\n",
       "        text-align: right;\n",
       "    }\n",
       "</style>\n",
       "<table border=\"1\" class=\"dataframe\">\n",
       "  <thead>\n",
       "    <tr style=\"text-align: right;\">\n",
       "      <th>Research</th>\n",
       "      <th>0</th>\n",
       "      <th>1</th>\n",
       "    </tr>\n",
       "    <tr>\n",
       "      <th>is_highest_uni_rating</th>\n",
       "      <th></th>\n",
       "      <th></th>\n",
       "    </tr>\n",
       "  </thead>\n",
       "  <tbody>\n",
       "    <tr>\n",
       "      <th>False</th>\n",
       "      <td>173</td>\n",
       "      <td>167</td>\n",
       "    </tr>\n",
       "    <tr>\n",
       "      <th>True</th>\n",
       "      <td>8</td>\n",
       "      <td>52</td>\n",
       "    </tr>\n",
       "  </tbody>\n",
       "</table>\n",
       "</div>"
      ],
      "text/plain": [
       "Research                 0    1\n",
       "is_highest_uni_rating          \n",
       "False                  173  167\n",
       "True                     8   52"
      ]
     },
     "execution_count": 43,
     "metadata": {},
     "output_type": "execute_result"
    }
   ],
   "source": [
    "ct_o = df.groupby('is_highest_uni_rating')['Research'].value_counts().unstack()\n",
    "ct_o"
   ]
  },
  {
   "cell_type": "markdown",
   "metadata": {},
   "source": [
    "Воспользуемся библиотекой `scipy` для нахождения хи-квадрат, в качестве аргумента передаем матрицу наблюдаемых частот (т.к. коррекция = 1, передаем в качестве аргумента ``correction=False``). Критическое значение = 6.63."
   ]
  },
  {
   "cell_type": "code",
   "execution_count": 44,
   "metadata": {},
   "outputs": [
    {
     "data": {
      "text/plain": [
       "(29.024495087775016,\n",
       " 7.146886347097846e-08,\n",
       " 1,\n",
       " array([[153.85, 186.15],\n",
       "        [ 27.15,  32.85]]))"
      ]
     },
     "execution_count": 44,
     "metadata": {},
     "output_type": "execute_result"
    }
   ],
   "source": [
    "scipy.stats.chi2_contingency(ct_o, correction=False)"
   ]
  },
  {
   "cell_type": "markdown",
   "metadata": {},
   "source": [
    "Значение критерия `29.024495087775016` > критического значения `6.63`, следовательно, мы можем отвергнуть нулевую гипотезу, зависимость между категориями переменных скорее всего есть."
   ]
  },
  {
   "cell_type": "markdown",
   "metadata": {},
   "source": [
    "# t-тест"
   ]
  },
  {
   "cell_type": "markdown",
   "metadata": {},
   "source": [
    "Рассмотрим две независимые выборки. \n",
    "\n",
    "Будем тестировать гипотезу, что существует разница между количеством `GRE Score`, которое требуется для поступления в университеты, требующие или не требующие наличие исследовательского опыта.\n",
    "\n",
    "Нулевая гипотеза: средние для двух выборок равны."
   ]
  },
  {
   "cell_type": "code",
   "execution_count": 45,
   "metadata": {},
   "outputs": [],
   "source": [
    "research_required = df[df['Research'] == True]['GRE Score']\n",
    "research_not_required = df[df['Research'] == False]['GRE Score']"
   ]
  },
  {
   "cell_type": "markdown",
   "metadata": {},
   "source": [
    "Найдем t-критерий помощью функции из библиотеки `scipy.stats`."
   ]
  },
  {
   "cell_type": "code",
   "execution_count": 46,
   "metadata": {},
   "outputs": [
    {
     "data": {
      "text/plain": [
       "(-14.369613919715873, 5.703850014733241e-38)"
      ]
     },
     "execution_count": 46,
     "metadata": {},
     "output_type": "execute_result"
    }
   ],
   "source": [
    "t, p_value = scipy.stats.ttest_ind(research_not_required, research_required, equal_var=False)\n",
    "t, p_value\n"
   ]
  },
  {
   "cell_type": "markdown",
   "metadata": {},
   "source": [
    "`pvalue` является очень маленьким - шанс получить ошибку 1-ого типа -> тест является статистически значимым.\n",
    "Отвергаем Н0. Разница между средними статистически значима."
   ]
  },
  {
   "cell_type": "markdown",
   "metadata": {},
   "source": [
    "# Линейная регрессия"
   ]
  },
  {
   "cell_type": "code",
   "execution_count": 9,
   "metadata": {},
   "outputs": [],
   "source": [
    "import pandas as pd\n",
    "import seaborn as sns\n",
    "import matplotlib.pyplot as plt\n",
    "import scipy.stats\n",
    "import statsmodels.api as sm\n",
    "import numpy as np"
   ]
  },
  {
   "cell_type": "code",
   "execution_count": 47,
   "metadata": {},
   "outputs": [
    {
     "data": {
      "text/html": [
       "<div>\n",
       "<style scoped>\n",
       "    .dataframe tbody tr th:only-of-type {\n",
       "        vertical-align: middle;\n",
       "    }\n",
       "\n",
       "    .dataframe tbody tr th {\n",
       "        vertical-align: top;\n",
       "    }\n",
       "\n",
       "    .dataframe thead th {\n",
       "        text-align: right;\n",
       "    }\n",
       "</style>\n",
       "<table border=\"1\" class=\"dataframe\">\n",
       "  <thead>\n",
       "    <tr style=\"text-align: right;\">\n",
       "      <th></th>\n",
       "      <th>GRE Score</th>\n",
       "      <th>LOR</th>\n",
       "      <th>TOEFL Score</th>\n",
       "      <th>SOP</th>\n",
       "    </tr>\n",
       "  </thead>\n",
       "  <tbody>\n",
       "    <tr>\n",
       "      <th>0</th>\n",
       "      <td>337</td>\n",
       "      <td>4.5</td>\n",
       "      <td>118</td>\n",
       "      <td>4.5</td>\n",
       "    </tr>\n",
       "    <tr>\n",
       "      <th>1</th>\n",
       "      <td>324</td>\n",
       "      <td>4.5</td>\n",
       "      <td>107</td>\n",
       "      <td>4.0</td>\n",
       "    </tr>\n",
       "    <tr>\n",
       "      <th>2</th>\n",
       "      <td>316</td>\n",
       "      <td>3.5</td>\n",
       "      <td>104</td>\n",
       "      <td>3.0</td>\n",
       "    </tr>\n",
       "    <tr>\n",
       "      <th>3</th>\n",
       "      <td>322</td>\n",
       "      <td>2.5</td>\n",
       "      <td>110</td>\n",
       "      <td>3.5</td>\n",
       "    </tr>\n",
       "    <tr>\n",
       "      <th>4</th>\n",
       "      <td>314</td>\n",
       "      <td>3.0</td>\n",
       "      <td>103</td>\n",
       "      <td>2.0</td>\n",
       "    </tr>\n",
       "  </tbody>\n",
       "</table>\n",
       "</div>"
      ],
      "text/plain": [
       "   GRE Score  LOR   TOEFL Score  SOP\n",
       "0        337   4.5          118  4.5\n",
       "1        324   4.5          107  4.0\n",
       "2        316   3.5          104  3.0\n",
       "3        322   2.5          110  3.5\n",
       "4        314   3.0          103  2.0"
      ]
     },
     "execution_count": 47,
     "metadata": {},
     "output_type": "execute_result"
    }
   ],
   "source": [
    "p = pd.concat([df['GRE Score'], df['LOR '], df['TOEFL Score'], df['SOP']], axis=1)\n",
    "p.head()"
   ]
  },
  {
   "cell_type": "markdown",
   "metadata": {},
   "source": [
    "С помощью библиотеки `scipy` построим линейную модель с одним предиктором."
   ]
  },
  {
   "cell_type": "code",
   "execution_count": 48,
   "metadata": {},
   "outputs": [
    {
     "data": {
      "text/plain": [
       "LinregressResult(slope=0.4422284488529551, intercept=-32.69128930998258, rvalue=0.8359768030143963, pvalue=9.011246680984254e-106, stderr=0.014551144249880318, intercept_stderr=4.612926341784913)"
      ]
     },
     "execution_count": 48,
     "metadata": {},
     "output_type": "execute_result"
    }
   ],
   "source": [
    "X = p['GRE Score']\n",
    "y = p['TOEFL Score']\n",
    "\n",
    "res = scipy.stats.linregress(X, y)\n",
    "res"
   ]
  },
  {
   "cell_type": "markdown",
   "metadata": {},
   "source": [
    "При одном шаге в изменении `GRE Score`, количество `TOEFL Score` изменяется на 0.45. `pvalue` (стат. значимость коэффициента) имеет низкое значение - связь статистически значима. "
   ]
  },
  {
   "cell_type": "markdown",
   "metadata": {},
   "source": [
    "Вычислим коэфф детерминации."
   ]
  },
  {
   "cell_type": "code",
   "execution_count": 36,
   "metadata": {},
   "outputs": [
    {
     "data": {
      "text/plain": [
       "0.6988572151781707"
      ]
     },
     "execution_count": 36,
     "metadata": {},
     "output_type": "execute_result"
    }
   ],
   "source": [
    "r_sq = res.rvalue ** 2\n",
    "r_sq"
   ]
  },
  {
   "cell_type": "markdown",
   "metadata": {},
   "source": [
    "Коэффициент детерминации имеет достаточно высокое значение -> модель на 70% объясняет дисперсию целевой переменной."
   ]
  },
  {
   "cell_type": "markdown",
   "metadata": {},
   "source": [
    "Отобразим график рассеяния. "
   ]
  },
  {
   "cell_type": "code",
   "execution_count": 37,
   "metadata": {},
   "outputs": [
    {
     "data": {
      "image/png": "[encoded data removed]",
      "text/plain": [
       "<Figure size 640x480 with 1 Axes>"
      ]
     },
     "metadata": {},
     "output_type": "display_data"
    }
   ],
   "source": [
    "plt.plot(X, y, 'o', label='оригинальные данные')\n",
    "plt.plot(X, res.intercept + res.slope*X, 'r', label='линия регрессии')\n",
    "plt.legend()\n",
    "plt.show()"
   ]
  },
  {
   "cell_type": "markdown",
   "metadata": {},
   "source": [
    "Воспользуемся библиотекой `statsmodels` для построения уравнения линейной регрессии.\n",
    "Сначала построим с одним предиктором, целевая переменная: `GRE Score`."
   ]
  },
  {
   "cell_type": "code",
   "execution_count": 39,
   "metadata": {},
   "outputs": [
    {
     "name": "stdout",
     "output_type": "stream",
     "text": [
      "                            OLS Regression Results                            \n",
      "==============================================================================\n",
      "Dep. Variable:            TOEFL Score   R-squared:                       0.699\n",
      "Model:                            OLS   Adj. R-squared:                  0.698\n",
      "Method:                 Least Squares   F-statistic:                     923.6\n",
      "Date:                Tue, 13 Dec 2022   Prob (F-statistic):          9.01e-106\n",
      "Time:                        20:01:29   Log-Likelihood:                -1048.4\n",
      "No. Observations:                 400   AIC:                             2101.\n",
      "Df Residuals:                     398   BIC:                             2109.\n",
      "Df Model:                           1                                         \n",
      "Covariance Type:            nonrobust                                         \n",
      "==============================================================================\n",
      "                 coef    std err          t      P>|t|      [0.025      0.975]\n",
      "------------------------------------------------------------------------------\n",
      "const        -32.6913      4.613     -7.087      0.000     -41.760     -23.623\n",
      "GRE Score      0.4422      0.015     30.391      0.000       0.414       0.471\n",
      "==============================================================================\n",
      "Omnibus:                        7.364   Durbin-Watson:                   1.433\n",
      "Prob(Omnibus):                  0.025   Jarque-Bera (JB):                7.484\n",
      "Skew:                          -0.270   Prob(JB):                       0.0237\n",
      "Kurtosis:                       3.397   Cond. No.                     8.77e+03\n",
      "==============================================================================\n",
      "\n",
      "Notes:\n",
      "[1] Standard Errors assume that the covariance matrix of the errors is correctly specified.\n",
      "[2] The condition number is large, 8.77e+03. This might indicate that there are\n",
      "strong multicollinearity or other numerical problems.\n"
     ]
    }
   ],
   "source": [
    "X_simple = p['GRE Score']\n",
    "y = p['TOEFL Score']\n",
    "X_simple_constant = sm.add_constant(X_simple)\n",
    "\n",
    "mod = sm.OLS(y, X_simple_constant)\n",
    "res_simple = mod.fit()\n",
    "print(res_simple.summary())"
   ]
  },
  {
   "cell_type": "markdown",
   "metadata": {},
   "source": [
    "Коэффициент детерминации: 0.699, зависимость сильная. Оба коэфф стат значимы."
   ]
  },
  {
   "cell_type": "markdown",
   "metadata": {},
   "source": [
    "Построим линейную регрессию с несколькими предикторами."
   ]
  },
  {
   "cell_type": "code",
   "execution_count": 49,
   "metadata": {},
   "outputs": [
    {
     "name": "stdout",
     "output_type": "stream",
     "text": [
      "                            OLS Regression Results                            \n",
      "==============================================================================\n",
      "Dep. Variable:            TOEFL Score   R-squared:                       0.733\n",
      "Model:                            OLS   Adj. R-squared:                  0.731\n",
      "Method:                 Least Squares   F-statistic:                     362.6\n",
      "Date:                Tue, 13 Dec 2022   Prob (F-statistic):          3.52e-113\n",
      "Time:                        20:26:41   Log-Likelihood:                -1024.2\n",
      "No. Observations:                 400   AIC:                             2056.\n",
      "Df Residuals:                     396   BIC:                             2072.\n",
      "Df Model:                           3                                         \n",
      "Covariance Type:            nonrobust                                         \n",
      "==============================================================================\n",
      "                 coef    std err          t      P>|t|      [0.025      0.975]\n",
      "------------------------------------------------------------------------------\n",
      "const        -13.0408      5.176     -2.519      0.012     -23.217      -2.864\n",
      "GRE Score      0.3643      0.018     20.519      0.000       0.329       0.399\n",
      "LOR            0.1677      0.262      0.640      0.522      -0.347       0.683\n",
      "SOP            1.3132      0.246      5.348      0.000       0.830       1.796\n",
      "==============================================================================\n",
      "Omnibus:                       10.608   Durbin-Watson:                   1.500\n",
      "Prob(Omnibus):                  0.005   Jarque-Bera (JB):               12.226\n",
      "Skew:                          -0.294   Prob(JB):                      0.00221\n",
      "Kurtosis:                       3.623   Cond. No.                     1.04e+04\n",
      "==============================================================================\n",
      "\n",
      "Notes:\n",
      "[1] Standard Errors assume that the covariance matrix of the errors is correctly specified.\n",
      "[2] The condition number is large, 1.04e+04. This might indicate that there are\n",
      "strong multicollinearity or other numerical problems.\n"
     ]
    }
   ],
   "source": [
    "X_mult = p.drop('TOEFL Score', axis=1)\n",
    "y = p['TOEFL Score']\n",
    "X_mult_constant = sm.add_constant(X_mult)\n",
    "\n",
    "mod = sm.OLS(y, X_mult_constant)\n",
    "res_mult = mod.fit()\n",
    "print(res_mult.summary())"
   ]
  },
  {
   "cell_type": "markdown",
   "metadata": {},
   "source": [
    "Коэфф детерминации вырос незначительно, введение новых переменных по сравнению с `GRE Score` незначительно улучшил модель. Коэфф `GRE Score `, `LOR` стат. значимы, положительные - чем выше значения, тем выше значение `TOEFL Score`."
   ]
  },
  {
   "cell_type": "markdown",
   "metadata": {},
   "source": [
    "# Логистическая регрессия\n"
   ]
  },
  {
   "cell_type": "markdown",
   "metadata": {},
   "source": [
    "Вынесем количественные переменные в отдельную переменную `cols_num`."
   ]
  },
  {
   "cell_type": "code",
   "execution_count": 172,
   "metadata": {},
   "outputs": [],
   "source": [
    "cols_num = ['GRE Score', 'TOEFL Score', 'SOP', 'CGPA']"
   ]
  },
  {
   "cell_type": "markdown",
   "metadata": {},
   "source": [
    "Построим модель логистической регрессии c одним предиктором с помощью библиотеки `statsmodels`.\n",
    "В качестве предиктора будем использовать наличие или отсутствие требования исследовательского опыта, в качестве целевой переменной - имеет ли университет наивысший рейтинг."
   ]
  },
  {
   "cell_type": "code",
   "execution_count": 189,
   "metadata": {},
   "outputs": [
    {
     "name": "stdout",
     "output_type": "stream",
     "text": [
      "Optimization terminated successfully.\n",
      "         Current function value: 0.382025\n",
      "         Iterations 7\n"
     ]
    },
    {
     "data": {
      "text/html": [
       "<table class=\"simpletable\">\n",
       "<caption>Logit Regression Results</caption>\n",
       "<tr>\n",
       "  <th>Dep. Variable:</th>   <td>is_highest_uni_rating</td> <th>  No. Observations:  </th>  <td>   400</td>  \n",
       "</tr>\n",
       "<tr>\n",
       "  <th>Model:</th>                   <td>Logit</td>         <th>  Df Residuals:      </th>  <td>   398</td>  \n",
       "</tr>\n",
       "<tr>\n",
       "  <th>Method:</th>                   <td>MLE</td>          <th>  Df Model:          </th>  <td>     1</td>  \n",
       "</tr>\n",
       "<tr>\n",
       "  <th>Date:</th>              <td>Tue, 13 Dec 2022</td>    <th>  Pseudo R-squ.:     </th>  <td>0.09625</td> \n",
       "</tr>\n",
       "<tr>\n",
       "  <th>Time:</th>                  <td>11:07:03</td>        <th>  Log-Likelihood:    </th> <td> -152.81</td> \n",
       "</tr>\n",
       "<tr>\n",
       "  <th>converged:</th>               <td>True</td>          <th>  LL-Null:           </th> <td> -169.08</td> \n",
       "</tr>\n",
       "<tr>\n",
       "  <th>Covariance Type:</th>       <td>nonrobust</td>       <th>  LLR p-value:       </th> <td>1.163e-08</td>\n",
       "</tr>\n",
       "</table>\n",
       "<table class=\"simpletable\">\n",
       "<tr>\n",
       "      <td></td>        <th>coef</th>     <th>std err</th>      <th>z</th>      <th>P>|z|</th>  <th>[0.025</th>    <th>0.975]</th>  \n",
       "</tr>\n",
       "<tr>\n",
       "  <th>const</th>    <td>   -3.0739</td> <td>    0.362</td> <td>   -8.500</td> <td> 0.000</td> <td>   -3.783</td> <td>   -2.365</td>\n",
       "</tr>\n",
       "<tr>\n",
       "  <th>Research</th> <td>    1.9071</td> <td>    0.395</td> <td>    4.829</td> <td> 0.000</td> <td>    1.133</td> <td>    2.681</td>\n",
       "</tr>\n",
       "</table>"
      ],
      "text/plain": [
       "<class 'statsmodels.iolib.summary.Summary'>\n",
       "\"\"\"\n",
       "                             Logit Regression Results                            \n",
       "=================================================================================\n",
       "Dep. Variable:     is_highest_uni_rating   No. Observations:                  400\n",
       "Model:                             Logit   Df Residuals:                      398\n",
       "Method:                              MLE   Df Model:                            1\n",
       "Date:                   Tue, 13 Dec 2022   Pseudo R-squ.:                 0.09625\n",
       "Time:                           11:07:03   Log-Likelihood:                -152.81\n",
       "converged:                          True   LL-Null:                       -169.08\n",
       "Covariance Type:               nonrobust   LLR p-value:                 1.163e-08\n",
       "==============================================================================\n",
       "                 coef    std err          z      P>|z|      [0.025      0.975]\n",
       "------------------------------------------------------------------------------\n",
       "const         -3.0739      0.362     -8.500      0.000      -3.783      -2.365\n",
       "Research       1.9071      0.395      4.829      0.000       1.133       2.681\n",
       "==============================================================================\n",
       "\"\"\""
      ]
     },
     "execution_count": 189,
     "metadata": {},
     "output_type": "execute_result"
    }
   ],
   "source": [
    "X = df['Research']\n",
    "y = df['is_highest_uni_rating']\n",
    "\n",
    "X_constant = sm.add_constant(X)\n",
    "logit = sm.Logit(y, X_constant).fit()\n",
    "logit.summary()"
   ]
  },
  {
   "cell_type": "markdown",
   "metadata": {},
   "source": [
    "полученные коэффициенты для интерпретации."
   ]
  },
  {
   "cell_type": "code",
   "execution_count": 190,
   "metadata": {},
   "outputs": [
    {
     "data": {
      "text/plain": [
       "(0.04624046492787434, 6.733533210323653)"
      ]
     },
     "execution_count": 190,
     "metadata": {},
     "output_type": "execute_result"
    }
   ],
   "source": [
    "c1, c2 = np.exp(-3.0739), np.exp(1.9071)\n",
    "c1, c2"
   ]
  },
  {
   "cell_type": "markdown",
   "metadata": {},
   "source": [
    "Если предиктор = 0, то шанс события (университет требует наличие исследовательского опыта) = 0.05."
   ]
  },
  {
   "cell_type": "markdown",
   "metadata": {},
   "source": [
    "Построим логистическую регрессию для количественных переменных."
   ]
  },
  {
   "cell_type": "code",
   "execution_count": 203,
   "metadata": {},
   "outputs": [
    {
     "name": "stdout",
     "output_type": "stream",
     "text": [
      "Optimization terminated successfully.\n",
      "         Current function value: 0.248992\n",
      "         Iterations 8\n"
     ]
    },
    {
     "data": {
      "text/html": [
       "<table class=\"simpletable\">\n",
       "<caption>Logit Regression Results</caption>\n",
       "<tr>\n",
       "  <th>Dep. Variable:</th>   <td>is_highest_uni_rating</td> <th>  No. Observations:  </th>  <td>   400</td>  \n",
       "</tr>\n",
       "<tr>\n",
       "  <th>Model:</th>                   <td>Logit</td>         <th>  Df Residuals:      </th>  <td>   395</td>  \n",
       "</tr>\n",
       "<tr>\n",
       "  <th>Method:</th>                   <td>MLE</td>          <th>  Df Model:          </th>  <td>     4</td>  \n",
       "</tr>\n",
       "<tr>\n",
       "  <th>Date:</th>              <td>Tue, 13 Dec 2022</td>    <th>  Pseudo R-squ.:     </th>  <td>0.4110</td>  \n",
       "</tr>\n",
       "<tr>\n",
       "  <th>Time:</th>                  <td>12:34:18</td>        <th>  Log-Likelihood:    </th> <td> -99.597</td> \n",
       "</tr>\n",
       "<tr>\n",
       "  <th>converged:</th>               <td>True</td>          <th>  LL-Null:           </th> <td> -169.08</td> \n",
       "</tr>\n",
       "<tr>\n",
       "  <th>Covariance Type:</th>       <td>nonrobust</td>       <th>  LLR p-value:       </th> <td>4.681e-29</td>\n",
       "</tr>\n",
       "</table>\n",
       "<table class=\"simpletable\">\n",
       "<tr>\n",
       "       <td></td>          <th>coef</th>     <th>std err</th>      <th>z</th>      <th>P>|z|</th>  <th>[0.025</th>    <th>0.975]</th>  \n",
       "</tr>\n",
       "<tr>\n",
       "  <th>const</th>       <td>  -26.2675</td> <td>    6.838</td> <td>   -3.841</td> <td> 0.000</td> <td>  -39.670</td> <td>  -12.865</td>\n",
       "</tr>\n",
       "<tr>\n",
       "  <th>GRE Score</th>   <td>   -0.0159</td> <td>    0.039</td> <td>   -0.403</td> <td> 0.687</td> <td>   -0.093</td> <td>    0.061</td>\n",
       "</tr>\n",
       "<tr>\n",
       "  <th>TOEFL Score</th> <td>    0.0230</td> <td>    0.065</td> <td>    0.351</td> <td> 0.726</td> <td>   -0.105</td> <td>    0.151</td>\n",
       "</tr>\n",
       "<tr>\n",
       "  <th>SOP</th>         <td>    1.4905</td> <td>    0.351</td> <td>    4.248</td> <td> 0.000</td> <td>    0.803</td> <td>    2.178</td>\n",
       "</tr>\n",
       "<tr>\n",
       "  <th>CGPA</th>        <td>    2.3637</td> <td>    0.876</td> <td>    2.698</td> <td> 0.007</td> <td>    0.647</td> <td>    4.081</td>\n",
       "</tr>\n",
       "</table>"
      ],
      "text/plain": [
       "<class 'statsmodels.iolib.summary.Summary'>\n",
       "\"\"\"\n",
       "                             Logit Regression Results                            \n",
       "=================================================================================\n",
       "Dep. Variable:     is_highest_uni_rating   No. Observations:                  400\n",
       "Model:                             Logit   Df Residuals:                      395\n",
       "Method:                              MLE   Df Model:                            4\n",
       "Date:                   Tue, 13 Dec 2022   Pseudo R-squ.:                  0.4110\n",
       "Time:                           12:34:18   Log-Likelihood:                -99.597\n",
       "converged:                          True   LL-Null:                       -169.08\n",
       "Covariance Type:               nonrobust   LLR p-value:                 4.681e-29\n",
       "===============================================================================\n",
       "                  coef    std err          z      P>|z|      [0.025      0.975]\n",
       "-------------------------------------------------------------------------------\n",
       "const         -26.2675      6.838     -3.841      0.000     -39.670     -12.865\n",
       "GRE Score      -0.0159      0.039     -0.403      0.687      -0.093       0.061\n",
       "TOEFL Score     0.0230      0.065      0.351      0.726      -0.105       0.151\n",
       "SOP             1.4905      0.351      4.248      0.000       0.803       2.178\n",
       "CGPA            2.3637      0.876      2.698      0.007       0.647       4.081\n",
       "===============================================================================\n",
       "\"\"\""
      ]
     },
     "execution_count": 203,
     "metadata": {},
     "output_type": "execute_result"
    }
   ],
   "source": [
    "X = df[cols_num]\n",
    "y = df['is_highest_uni_rating']\n",
    "\n",
    "X_constant = sm.add_constant(X)\n",
    "logit = sm.Logit(y, X_constant).fit()\n",
    "logit.summary()"
   ]
  },
  {
   "cell_type": "markdown",
   "metadata": {},
   "source": [
    "Центрирование. Сделаем интерпретацию относительно среднего значения переменной."
   ]
  },
  {
   "cell_type": "code",
   "execution_count": 204,
   "metadata": {},
   "outputs": [
    {
     "name": "stdout",
     "output_type": "stream",
     "text": [
      "Optimization terminated successfully.\n",
      "         Current function value: 0.248992\n",
      "         Iterations 8\n"
     ]
    },
    {
     "data": {
      "text/html": [
       "<table class=\"simpletable\">\n",
       "<caption>Logit Regression Results</caption>\n",
       "<tr>\n",
       "  <th>Dep. Variable:</th>   <td>is_highest_uni_rating</td> <th>  No. Observations:  </th>  <td>   400</td>  \n",
       "</tr>\n",
       "<tr>\n",
       "  <th>Model:</th>                   <td>Logit</td>         <th>  Df Residuals:      </th>  <td>   395</td>  \n",
       "</tr>\n",
       "<tr>\n",
       "  <th>Method:</th>                   <td>MLE</td>          <th>  Df Model:          </th>  <td>     4</td>  \n",
       "</tr>\n",
       "<tr>\n",
       "  <th>Date:</th>              <td>Tue, 13 Dec 2022</td>    <th>  Pseudo R-squ.:     </th>  <td>0.4110</td>  \n",
       "</tr>\n",
       "<tr>\n",
       "  <th>Time:</th>                  <td>12:35:55</td>        <th>  Log-Likelihood:    </th> <td> -99.597</td> \n",
       "</tr>\n",
       "<tr>\n",
       "  <th>converged:</th>               <td>True</td>          <th>  LL-Null:           </th> <td> -169.08</td> \n",
       "</tr>\n",
       "<tr>\n",
       "  <th>Covariance Type:</th>       <td>nonrobust</td>       <th>  LLR p-value:       </th> <td>4.681e-29</td>\n",
       "</tr>\n",
       "</table>\n",
       "<table class=\"simpletable\">\n",
       "<tr>\n",
       "       <td></td>          <th>coef</th>     <th>std err</th>      <th>z</th>      <th>P>|z|</th>  <th>[0.025</th>    <th>0.975]</th>  \n",
       "</tr>\n",
       "<tr>\n",
       "  <th>const</th>       <td>   -3.4345</td> <td>    0.380</td> <td>   -9.034</td> <td> 0.000</td> <td>   -4.180</td> <td>   -2.689</td>\n",
       "</tr>\n",
       "<tr>\n",
       "  <th>GRE Score</th>   <td>   -0.0159</td> <td>    0.039</td> <td>   -0.403</td> <td> 0.687</td> <td>   -0.093</td> <td>    0.061</td>\n",
       "</tr>\n",
       "<tr>\n",
       "  <th>TOEFL Score</th> <td>    0.0230</td> <td>    0.065</td> <td>    0.351</td> <td> 0.726</td> <td>   -0.105</td> <td>    0.151</td>\n",
       "</tr>\n",
       "<tr>\n",
       "  <th>SOP</th>         <td>    1.4905</td> <td>    0.351</td> <td>    4.248</td> <td> 0.000</td> <td>    0.803</td> <td>    2.178</td>\n",
       "</tr>\n",
       "<tr>\n",
       "  <th>CGPA</th>        <td>    2.3637</td> <td>    0.876</td> <td>    2.698</td> <td> 0.007</td> <td>    0.647</td> <td>    4.081</td>\n",
       "</tr>\n",
       "</table>"
      ],
      "text/plain": [
       "<class 'statsmodels.iolib.summary.Summary'>\n",
       "\"\"\"\n",
       "                             Logit Regression Results                            \n",
       "=================================================================================\n",
       "Dep. Variable:     is_highest_uni_rating   No. Observations:                  400\n",
       "Model:                             Logit   Df Residuals:                      395\n",
       "Method:                              MLE   Df Model:                            4\n",
       "Date:                   Tue, 13 Dec 2022   Pseudo R-squ.:                  0.4110\n",
       "Time:                           12:35:55   Log-Likelihood:                -99.597\n",
       "converged:                          True   LL-Null:                       -169.08\n",
       "Covariance Type:               nonrobust   LLR p-value:                 4.681e-29\n",
       "===============================================================================\n",
       "                  coef    std err          z      P>|z|      [0.025      0.975]\n",
       "-------------------------------------------------------------------------------\n",
       "const          -3.4345      0.380     -9.034      0.000      -4.180      -2.689\n",
       "GRE Score      -0.0159      0.039     -0.403      0.687      -0.093       0.061\n",
       "TOEFL Score     0.0230      0.065      0.351      0.726      -0.105       0.151\n",
       "SOP             1.4905      0.351      4.248      0.000       0.803       2.178\n",
       "CGPA            2.3637      0.876      2.698      0.007       0.647       4.081\n",
       "===============================================================================\n",
       "\"\"\""
      ]
     },
     "execution_count": 204,
     "metadata": {},
     "output_type": "execute_result"
    }
   ],
   "source": [
    "X = df[cols_num] - df[cols_num].mean()\n",
    "y = df['is_highest_uni_rating']\n",
    "\n",
    "X_constant = sm.add_constant(X)\n",
    "logit = sm.Logit(y, X_constant).fit()\n",
    "logit.summary()"
   ]
  },
  {
   "cell_type": "markdown",
   "metadata": {},
   "source": [
    "Стандартизация. Разделим на среднеквадратичное отклонение. Интерпретируется изменением на одно стандартное отклонение, а не изменением на одну единицу."
   ]
  },
  {
   "cell_type": "code",
   "execution_count": 205,
   "metadata": {},
   "outputs": [
    {
     "name": "stdout",
     "output_type": "stream",
     "text": [
      "Optimization terminated successfully.\n",
      "         Current function value: 0.248992\n",
      "         Iterations 8\n"
     ]
    },
    {
     "data": {
      "text/html": [
       "<table class=\"simpletable\">\n",
       "<caption>Logit Regression Results</caption>\n",
       "<tr>\n",
       "  <th>Dep. Variable:</th>   <td>is_highest_uni_rating</td> <th>  No. Observations:  </th>  <td>   400</td>  \n",
       "</tr>\n",
       "<tr>\n",
       "  <th>Model:</th>                   <td>Logit</td>         <th>  Df Residuals:      </th>  <td>   395</td>  \n",
       "</tr>\n",
       "<tr>\n",
       "  <th>Method:</th>                   <td>MLE</td>          <th>  Df Model:          </th>  <td>     4</td>  \n",
       "</tr>\n",
       "<tr>\n",
       "  <th>Date:</th>              <td>Tue, 13 Dec 2022</td>    <th>  Pseudo R-squ.:     </th>  <td>0.4110</td>  \n",
       "</tr>\n",
       "<tr>\n",
       "  <th>Time:</th>                  <td>12:37:52</td>        <th>  Log-Likelihood:    </th> <td> -99.597</td> \n",
       "</tr>\n",
       "<tr>\n",
       "  <th>converged:</th>               <td>True</td>          <th>  LL-Null:           </th> <td> -169.08</td> \n",
       "</tr>\n",
       "<tr>\n",
       "  <th>Covariance Type:</th>       <td>nonrobust</td>       <th>  LLR p-value:       </th> <td>4.681e-29</td>\n",
       "</tr>\n",
       "</table>\n",
       "<table class=\"simpletable\">\n",
       "<tr>\n",
       "       <td></td>          <th>coef</th>     <th>std err</th>      <th>z</th>      <th>P>|z|</th>  <th>[0.025</th>    <th>0.975]</th>  \n",
       "</tr>\n",
       "<tr>\n",
       "  <th>const</th>       <td>   -3.4345</td> <td>    0.380</td> <td>   -9.034</td> <td> 0.000</td> <td>   -4.180</td> <td>   -2.689</td>\n",
       "</tr>\n",
       "<tr>\n",
       "  <th>GRE Score</th>   <td>   -0.1821</td> <td>    0.451</td> <td>   -0.403</td> <td> 0.687</td> <td>   -1.067</td> <td>    0.703</td>\n",
       "</tr>\n",
       "<tr>\n",
       "  <th>TOEFL Score</th> <td>    0.1394</td> <td>    0.397</td> <td>    0.351</td> <td> 0.726</td> <td>   -0.639</td> <td>    0.918</td>\n",
       "</tr>\n",
       "<tr>\n",
       "  <th>SOP</th>         <td>    1.5008</td> <td>    0.353</td> <td>    4.248</td> <td> 0.000</td> <td>    0.808</td> <td>    2.193</td>\n",
       "</tr>\n",
       "<tr>\n",
       "  <th>CGPA</th>        <td>    1.4095</td> <td>    0.522</td> <td>    2.698</td> <td> 0.007</td> <td>    0.386</td> <td>    2.433</td>\n",
       "</tr>\n",
       "</table>"
      ],
      "text/plain": [
       "<class 'statsmodels.iolib.summary.Summary'>\n",
       "\"\"\"\n",
       "                             Logit Regression Results                            \n",
       "=================================================================================\n",
       "Dep. Variable:     is_highest_uni_rating   No. Observations:                  400\n",
       "Model:                             Logit   Df Residuals:                      395\n",
       "Method:                              MLE   Df Model:                            4\n",
       "Date:                   Tue, 13 Dec 2022   Pseudo R-squ.:                  0.4110\n",
       "Time:                           12:37:52   Log-Likelihood:                -99.597\n",
       "converged:                          True   LL-Null:                       -169.08\n",
       "Covariance Type:               nonrobust   LLR p-value:                 4.681e-29\n",
       "===============================================================================\n",
       "                  coef    std err          z      P>|z|      [0.025      0.975]\n",
       "-------------------------------------------------------------------------------\n",
       "const          -3.4345      0.380     -9.034      0.000      -4.180      -2.689\n",
       "GRE Score      -0.1821      0.451     -0.403      0.687      -1.067       0.703\n",
       "TOEFL Score     0.1394      0.397      0.351      0.726      -0.639       0.918\n",
       "SOP             1.5008      0.353      4.248      0.000       0.808       2.193\n",
       "CGPA            1.4095      0.522      2.698      0.007       0.386       2.433\n",
       "===============================================================================\n",
       "\"\"\""
      ]
     },
     "execution_count": 205,
     "metadata": {},
     "output_type": "execute_result"
    }
   ],
   "source": [
    "X = (df[cols_num] - df[cols_num].mean()) / df[cols_num].std()\n",
    "y = df['is_highest_uni_rating']\n",
    "\n",
    "X_constant = sm.add_constant(X)\n",
    "logit = sm.Logit(y, X_constant).fit()\n",
    "logit.summary()"
   ]
  }
 ],
 "metadata": {
  "kernelspec": {
   "display_name": "Python 3",
   "language": "python",
   "name": "python3"
  },
  "language_info": {
   "codemirror_mode": {
    "name": "ipython",
    "version": 3
   },
   "file_extension": ".py",
   "mimetype": "text/x-python",
   "name": "python",
   "nbconvert_exporter": "python",
   "pygments_lexer": "ipython3",
   "version": "3.7.4"
  },
  "vscode": {
   "interpreter": {
    "hash": "3381198f0bc8d984d3eaf811ecc1dc96638a64033569a1d7fc062f998ba6131e"
   }
  }
 },
 "nbformat": 4,
 "nbformat_minor": 2
}
